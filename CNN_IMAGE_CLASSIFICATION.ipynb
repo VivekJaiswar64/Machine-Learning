{
  "nbformat": 4,
  "nbformat_minor": 0,
  "metadata": {
    "colab": {
      "provenance": []
    },
    "kernelspec": {
      "name": "python3",
      "display_name": "Python 3"
    },
    "language_info": {
      "name": "python"
    }
  },
  "cells": [
    {
      "cell_type": "code",
      "source": [
        "# import te required libraries\n",
        "import numpy as np\n",
        "import random\n",
        "import pandas as pd\n",
        "import matplotlib.pyplot as plt\n",
        "import seaborn as sns\n",
        "\n",
        "# import deep learning libraries\n",
        "import keras\n",
        "from keras.models import Sequential\n",
        "from keras.layers import Conv2D, MaxPooling2D, Flatten, Dense\n",
        "\n",
        "# ignore harmless warning\n",
        "import warnings\n",
        "warnings.filterwarnings('ignore')"
      ],
      "metadata": {
        "id": "QbS_QdueWpBY"
      },
      "execution_count": null,
      "outputs": []
    },
    {
      "cell_type": "code",
      "execution_count": null,
      "metadata": {
        "id": "EnSEXC8JSmdy"
      },
      "outputs": [],
      "source": [
        "# Importing the training data\n",
        "x_train = np.loadtxt('/content/drive/MyDrive/AI /Copy of input.csv', delimiter=',')\n",
        "y_train = np.loadtxt('/content/drive/MyDrive/AI /Copy of labels.csv', delimiter=',')\n",
        "\n",
        "# Importing the testing data\n",
        "x_test = np.loadtxt('/content/drive/MyDrive/AI /Copy of input_test.csv', delimiter=',')\n",
        "y_test = np.loadtxt('/content/drive/MyDrive/AI /Copy of labels_test.csv', delimiter=',')\n"
      ]
    },
    {
      "cell_type": "code",
      "source": [
        "# x_train"
      ],
      "metadata": {
        "id": "hu4PAOuFdL8q"
      },
      "execution_count": null,
      "outputs": []
    },
    {
      "cell_type": "code",
      "source": [
        "y_train"
      ],
      "metadata": {
        "colab": {
          "base_uri": "https://localhost:8080/"
        },
        "id": "geHppTkhdYZC",
        "outputId": "cd858880-e93b-4ecc-95ee-5dbe212188c0"
      },
      "execution_count": null,
      "outputs": [
        {
          "output_type": "execute_result",
          "data": {
            "text/plain": [
              "array([0., 0., 0., ..., 1., 1., 1.])"
            ]
          },
          "metadata": {},
          "execution_count": 5
        }
      ]
    },
    {
      "cell_type": "code",
      "source": [
        "# Dimension of the data\n",
        "print(x_train.shape)\n",
        "print(y_train.shape)\n",
        "print(x_test.shape)\n",
        "print(y_test.shape)\n",
        "\n",
        "# (2000, 30000) --> 2000 images of each having 30000 columns, each column is a pixel"
      ],
      "metadata": {
        "id": "Vo8mKmqWWnxv",
        "colab": {
          "base_uri": "https://localhost:8080/"
        },
        "outputId": "5ec36209-6b9e-4cda-d17f-383e2b3c1d6d"
      },
      "execution_count": null,
      "outputs": [
        {
          "output_type": "stream",
          "name": "stdout",
          "text": [
            "(2000, 30000)\n",
            "(2000,)\n",
            "(400, 30000)\n",
            "(400,)\n"
          ]
        }
      ]
    },
    {
      "cell_type": "code",
      "source": [
        "# pixel values\n",
        "print('Minimum pixel value:', x_train.min())\n",
        "print('Maximum pixel value:', x_train.max())\n",
        "\n",
        "# This represents the image can be RGB"
      ],
      "metadata": {
        "colab": {
          "base_uri": "https://localhost:8080/"
        },
        "id": "e3FyjI0HG6NG",
        "outputId": "aea52399-a64a-4944-945f-9692eacf0ec7"
      },
      "execution_count": null,
      "outputs": [
        {
          "output_type": "stream",
          "name": "stdout",
          "text": [
            "Minimum pixel value: 0.0\n",
            "Maximum pixel value: 255.0\n"
          ]
        }
      ]
    },
    {
      "cell_type": "code",
      "source": [
        "# size per image = 100px x 100px\n",
        "# gradient = RGB = 3 layers\n",
        "\n",
        "# 100px x 100px x 3 layers = 30000 columns"
      ],
      "metadata": {
        "id": "xklznGVzHG1G"
      },
      "execution_count": null,
      "outputs": []
    },
    {
      "cell_type": "code",
      "source": [
        "# reshape the training data\n",
        "x_train = x_train.reshape(len(x_train), 100, 100, 3)\n",
        "y_train = y_train.reshape(len(y_train), 1)\n",
        "\n",
        "# reshape the test data\n",
        "x_test = x_test.reshape(len(x_test), 100, 100, 3)\n",
        "y_test = y_test.reshape(len(y_test), 1)"
      ],
      "metadata": {
        "id": "1EGomrGoHK2f"
      },
      "execution_count": null,
      "outputs": []
    },
    {
      "cell_type": "code",
      "source": [
        "# data after reshaping\n",
        "print('Shape of the data after reshaping:')\n",
        "print(x_train.shape)\n",
        "print(y_train.shape)\n",
        "print(x_test.shape)\n",
        "print(y_test.shape)"
      ],
      "metadata": {
        "colab": {
          "base_uri": "https://localhost:8080/"
        },
        "id": "NUDs9ME6HSLC",
        "outputId": "012a788d-4def-43a8-fd63-bf5a2a4f14e0"
      },
      "execution_count": null,
      "outputs": [
        {
          "output_type": "stream",
          "name": "stdout",
          "text": [
            "Shape of the data after reshaping:\n",
            "(2000, 100, 100, 3)\n",
            "(2000, 1)\n",
            "(400, 100, 100, 3)\n",
            "(400, 1)\n"
          ]
        }
      ]
    },
    {
      "cell_type": "code",
      "source": [
        "# Dimensions of the data after reshaping\n",
        "print('Dimension of the data after reshaping:')\n",
        "print(x_train.ndim)\n",
        "print(y_train.ndim)\n",
        "print(x_test.ndim)\n",
        "print(y_test.ndim)"
      ],
      "metadata": {
        "colab": {
          "base_uri": "https://localhost:8080/"
        },
        "id": "x7ZBOl7QIr0s",
        "outputId": "e28104f8-a585-4fd5-ae59-97d30ec6964d"
      },
      "execution_count": null,
      "outputs": [
        {
          "output_type": "stream",
          "name": "stdout",
          "text": [
            "Dimension of the data after reshaping:\n",
            "4\n",
            "2\n",
            "4\n",
            "2\n"
          ]
        }
      ]
    },
    {
      "cell_type": "code",
      "source": [
        "# Data scaling\n",
        "x_train = x_train/255.0\n",
        "x_test = x_test/255.0"
      ],
      "metadata": {
        "id": "HNSqcWhDI1dp"
      },
      "execution_count": null,
      "outputs": []
    },
    {
      "cell_type": "code",
      "source": [
        "x_train"
      ],
      "metadata": {
        "colab": {
          "base_uri": "https://localhost:8080/"
        },
        "collapsed": true,
        "id": "u7Ed1VOXgJP9",
        "outputId": "ee37c28f-60c1-40d6-c405-8e131d366890"
      },
      "execution_count": null,
      "outputs": [
        {
          "output_type": "execute_result",
          "data": {
            "text/plain": [
              "array([[[[0.14509804, 0.15294118, 0.09803922],\n",
              "         [0.10196078, 0.09411765, 0.03529412],\n",
              "         [0.13333333, 0.09803922, 0.03921569],\n",
              "         ...,\n",
              "         [0.22352941, 0.17254902, 0.1372549 ],\n",
              "         [0.23921569, 0.18431373, 0.14901961],\n",
              "         [0.25490196, 0.2       , 0.16470588]],\n",
              "\n",
              "        [[0.17647059, 0.16862745, 0.10980392],\n",
              "         [0.10980392, 0.09803922, 0.03137255],\n",
              "         [0.20392157, 0.15686275, 0.09411765],\n",
              "         ...,\n",
              "         [0.21176471, 0.16078431, 0.1254902 ],\n",
              "         [0.22352941, 0.16862745, 0.13333333],\n",
              "         [0.23921569, 0.18431373, 0.14901961]],\n",
              "\n",
              "        [[0.20392157, 0.17647059, 0.10196078],\n",
              "         [0.1254902 , 0.09411765, 0.01960784],\n",
              "         [0.27058824, 0.21176471, 0.1372549 ],\n",
              "         ...,\n",
              "         [0.21176471, 0.15686275, 0.11372549],\n",
              "         [0.21960784, 0.16470588, 0.12156863],\n",
              "         [0.23137255, 0.17647059, 0.13333333]],\n",
              "\n",
              "        ...,\n",
              "\n",
              "        [[0.07843137, 0.15294118, 0.        ],\n",
              "         [0.39607843, 0.49019608, 0.2627451 ],\n",
              "         [0.59607843, 0.71372549, 0.47058824],\n",
              "         ...,\n",
              "         [0.18039216, 0.16078431, 0.0745098 ],\n",
              "         [0.23529412, 0.21568627, 0.12941176],\n",
              "         [0.23529412, 0.21568627, 0.12941176]],\n",
              "\n",
              "        [[0.18039216, 0.25490196, 0.03529412],\n",
              "         [0.45490196, 0.54901961, 0.32156863],\n",
              "         [0.61176471, 0.72941176, 0.48627451],\n",
              "         ...,\n",
              "         [0.25098039, 0.23529412, 0.1372549 ],\n",
              "         [0.29411765, 0.27843137, 0.18039216],\n",
              "         [0.28235294, 0.26666667, 0.16862745]],\n",
              "\n",
              "        [[0.31764706, 0.39215686, 0.17254902],\n",
              "         [0.49411765, 0.58823529, 0.36078431],\n",
              "         [0.57254902, 0.69019608, 0.44705882],\n",
              "         ...,\n",
              "         [0.2627451 , 0.24705882, 0.14901961],\n",
              "         [0.30588235, 0.29019608, 0.19215686],\n",
              "         [0.22745098, 0.21176471, 0.11372549]]],\n",
              "\n",
              "\n",
              "       [[[0.51372549, 0.50196078, 0.52941176],\n",
              "         [0.62745098, 0.61568627, 0.64313725],\n",
              "         [0.77647059, 0.75294118, 0.8       ],\n",
              "         ...,\n",
              "         [0.98039216, 0.97647059, 0.96862745],\n",
              "         [1.        , 1.        , 0.99215686],\n",
              "         [0.98039216, 0.97647059, 0.96078431]],\n",
              "\n",
              "        [[0.54901961, 0.5372549 , 0.56470588],\n",
              "         [0.49803922, 0.48627451, 0.51372549],\n",
              "         [0.47058824, 0.44705882, 0.48627451],\n",
              "         ...,\n",
              "         [0.98431373, 0.99215686, 0.98823529],\n",
              "         [0.99607843, 1.        , 0.99215686],\n",
              "         [0.99607843, 1.        , 0.98431373]],\n",
              "\n",
              "        [[0.8       , 0.79215686, 0.81176471],\n",
              "         [0.73333333, 0.7254902 , 0.74509804],\n",
              "         [0.57647059, 0.55686275, 0.58039216],\n",
              "         ...,\n",
              "         [0.97647059, 1.        , 1.        ],\n",
              "         [0.93333333, 0.96862745, 0.94901961],\n",
              "         [0.90980392, 0.94509804, 0.9254902 ]],\n",
              "\n",
              "        ...,\n",
              "\n",
              "        [[0.68235294, 0.71372549, 0.76470588],\n",
              "         [0.6745098 , 0.70588235, 0.75686275],\n",
              "         [0.69803922, 0.72941176, 0.77254902],\n",
              "         ...,\n",
              "         [0.34117647, 0.44705882, 0.38039216],\n",
              "         [0.29411765, 0.38823529, 0.3254902 ],\n",
              "         [0.31372549, 0.41176471, 0.3372549 ]],\n",
              "\n",
              "        [[0.65098039, 0.67843137, 0.74117647],\n",
              "         [0.64313725, 0.6745098 , 0.7254902 ],\n",
              "         [0.6745098 , 0.70588235, 0.75686275],\n",
              "         ...,\n",
              "         [0.30588235, 0.41568627, 0.32941176],\n",
              "         [0.28235294, 0.38039216, 0.29803922],\n",
              "         [0.30196078, 0.4       , 0.31764706]],\n",
              "\n",
              "        [[0.67843137, 0.70588235, 0.76862745],\n",
              "         [0.6745098 , 0.70196078, 0.76470588],\n",
              "         [0.68235294, 0.71372549, 0.76470588],\n",
              "         ...,\n",
              "         [0.24705882, 0.35686275, 0.27058824],\n",
              "         [0.24313725, 0.34117647, 0.25490196],\n",
              "         [0.27843137, 0.37647059, 0.29019608]]],\n",
              "\n",
              "\n",
              "       [[[0.31372549, 0.36078431, 0.34509804],\n",
              "         [0.3254902 , 0.37647059, 0.34901961],\n",
              "         [0.29803922, 0.36078431, 0.32156863],\n",
              "         ...,\n",
              "         [0.05490196, 0.1372549 , 0.07843137],\n",
              "         [0.05490196, 0.1372549 , 0.07843137],\n",
              "         [0.07843137, 0.16078431, 0.10196078]],\n",
              "\n",
              "        [[0.30588235, 0.34117647, 0.32941176],\n",
              "         [0.35294118, 0.39607843, 0.37254902],\n",
              "         [0.30980392, 0.35294118, 0.32156863],\n",
              "         ...,\n",
              "         [0.14509804, 0.21176471, 0.14901961],\n",
              "         [0.12156863, 0.18823529, 0.1254902 ],\n",
              "         [0.05098039, 0.11764706, 0.05490196]],\n",
              "\n",
              "        [[0.25098039, 0.25882353, 0.24705882],\n",
              "         [0.31372549, 0.33333333, 0.30980392],\n",
              "         [0.36470588, 0.39215686, 0.36078431],\n",
              "         ...,\n",
              "         [0.15686275, 0.18039216, 0.1254902 ],\n",
              "         [0.15686275, 0.18823529, 0.12941176],\n",
              "         [0.05490196, 0.08627451, 0.02745098]],\n",
              "\n",
              "        ...,\n",
              "\n",
              "        [[0.39215686, 0.42745098, 0.36078431],\n",
              "         [0.36470588, 0.41568627, 0.3372549 ],\n",
              "         [0.35294118, 0.43137255, 0.33333333],\n",
              "         ...,\n",
              "         [0.6745098 , 0.65490196, 0.58039216],\n",
              "         [0.63137255, 0.61176471, 0.5372549 ],\n",
              "         [0.56862745, 0.54901961, 0.4745098 ]],\n",
              "\n",
              "        [[0.38823529, 0.43137255, 0.36470588],\n",
              "         [0.37647059, 0.42745098, 0.34901961],\n",
              "         [0.36078431, 0.43921569, 0.34117647],\n",
              "         ...,\n",
              "         [0.58823529, 0.56862745, 0.49411765],\n",
              "         [0.52156863, 0.50196078, 0.42352941],\n",
              "         [0.57254902, 0.55294118, 0.4745098 ]],\n",
              "\n",
              "        [[0.41568627, 0.45882353, 0.39215686],\n",
              "         [0.4       , 0.45882353, 0.37647059],\n",
              "         [0.36862745, 0.44705882, 0.34901961],\n",
              "         ...,\n",
              "         [0.52156863, 0.50196078, 0.42745098],\n",
              "         [0.46666667, 0.44705882, 0.36862745],\n",
              "         [0.48627451, 0.46666667, 0.38823529]]],\n",
              "\n",
              "\n",
              "       ...,\n",
              "\n",
              "\n",
              "       [[[0.90588235, 0.88627451, 0.90196078],\n",
              "         [0.9372549 , 0.92156863, 0.9254902 ],\n",
              "         [0.95294118, 0.9372549 , 0.93333333],\n",
              "         ...,\n",
              "         [0.92941176, 0.89411765, 0.83529412],\n",
              "         [0.76470588, 0.7254902 , 0.67843137],\n",
              "         [0.83921569, 0.8       , 0.75294118]],\n",
              "\n",
              "        [[0.95686275, 0.93333333, 0.94901961],\n",
              "         [0.8627451 , 0.84705882, 0.85098039],\n",
              "         [0.97254902, 0.95294118, 0.94117647],\n",
              "         ...,\n",
              "         [0.91764706, 0.87058824, 0.80784314],\n",
              "         [0.72156863, 0.6745098 , 0.61960784],\n",
              "         [0.76078431, 0.71372549, 0.65882353]],\n",
              "\n",
              "        [[0.91372549, 0.87843137, 0.89019608],\n",
              "         [0.85098039, 0.82745098, 0.82745098],\n",
              "         [0.9372549 , 0.90588235, 0.89411765],\n",
              "         ...,\n",
              "         [0.94509804, 0.87843137, 0.81568627],\n",
              "         [0.79607843, 0.72941176, 0.66666667],\n",
              "         [0.82352941, 0.75686275, 0.69411765]],\n",
              "\n",
              "        ...,\n",
              "\n",
              "        [[0.03137255, 0.00784314, 0.00784314],\n",
              "         [0.03921569, 0.02352941, 0.01960784],\n",
              "         [0.05098039, 0.03529412, 0.02352941],\n",
              "         ...,\n",
              "         [0.29803922, 0.30980392, 0.3372549 ],\n",
              "         [0.27058824, 0.28235294, 0.30980392],\n",
              "         [0.25882353, 0.27058824, 0.29803922]],\n",
              "\n",
              "        [[0.18823529, 0.17254902, 0.16862745],\n",
              "         [0.19215686, 0.18823529, 0.18039216],\n",
              "         [0.19607843, 0.19215686, 0.18431373],\n",
              "         ...,\n",
              "         [0.29411765, 0.30588235, 0.33333333],\n",
              "         [0.27058824, 0.28235294, 0.30980392],\n",
              "         [0.25490196, 0.26666667, 0.29411765]],\n",
              "\n",
              "        [[0.25882353, 0.25490196, 0.24705882],\n",
              "         [0.27058824, 0.26666667, 0.25882353],\n",
              "         [0.2745098 , 0.2745098 , 0.26666667],\n",
              "         ...,\n",
              "         [0.29019608, 0.30196078, 0.32941176],\n",
              "         [0.26666667, 0.27843137, 0.30588235],\n",
              "         [0.24313725, 0.25490196, 0.28235294]]],\n",
              "\n",
              "\n",
              "       [[[0.23921569, 0.23921569, 0.24705882],\n",
              "         [0.09411765, 0.09019608, 0.10980392],\n",
              "         [0.09803922, 0.09803922, 0.12941176],\n",
              "         ...,\n",
              "         [0.18431373, 0.2       , 0.20392157],\n",
              "         [0.17647059, 0.19215686, 0.19607843],\n",
              "         [0.17647059, 0.19215686, 0.19607843]],\n",
              "\n",
              "        [[0.04313725, 0.04705882, 0.05490196],\n",
              "         [0.0627451 , 0.07843137, 0.08235294],\n",
              "         [0.07058824, 0.08235294, 0.10980392],\n",
              "         ...,\n",
              "         [0.25882353, 0.2745098 , 0.27843137],\n",
              "         [0.23921569, 0.25490196, 0.26666667],\n",
              "         [0.23137255, 0.24705882, 0.25098039]],\n",
              "\n",
              "        [[0.01176471, 0.04705882, 0.03529412],\n",
              "         [0.06666667, 0.10196078, 0.09019608],\n",
              "         [0.13333333, 0.16470588, 0.17647059],\n",
              "         ...,\n",
              "         [0.32941176, 0.34901961, 0.36078431],\n",
              "         [0.29019608, 0.30980392, 0.3254902 ],\n",
              "         [0.2745098 , 0.29411765, 0.30588235]],\n",
              "\n",
              "        ...,\n",
              "\n",
              "        [[0.57647059, 0.56862745, 0.62352941],\n",
              "         [0.53333333, 0.52156863, 0.58823529],\n",
              "         [0.51764706, 0.50588235, 0.57254902],\n",
              "         ...,\n",
              "         [0.48627451, 0.43137255, 0.41960784],\n",
              "         [0.45098039, 0.39607843, 0.38431373],\n",
              "         [0.50980392, 0.45490196, 0.44313725]],\n",
              "\n",
              "        [[0.54509804, 0.53333333, 0.6       ],\n",
              "         [0.50588235, 0.49411765, 0.56078431],\n",
              "         [0.50196078, 0.49019608, 0.56470588],\n",
              "         ...,\n",
              "         [0.45882353, 0.40392157, 0.4       ],\n",
              "         [0.36862745, 0.31372549, 0.30980392],\n",
              "         [0.43529412, 0.39215686, 0.38431373]],\n",
              "\n",
              "        [[0.52941176, 0.51764706, 0.58431373],\n",
              "         [0.47843137, 0.46666667, 0.53333333],\n",
              "         [0.56078431, 0.54901961, 0.63137255],\n",
              "         ...,\n",
              "         [0.58431373, 0.52941176, 0.52941176],\n",
              "         [0.48235294, 0.43529412, 0.43529412],\n",
              "         [0.52941176, 0.48235294, 0.48235294]]],\n",
              "\n",
              "\n",
              "       [[[0.25098039, 0.12156863, 0.04705882],\n",
              "         [0.4627451 , 0.24705882, 0.16470588],\n",
              "         [0.76470588, 0.36470588, 0.27843137],\n",
              "         ...,\n",
              "         [0.3372549 , 0.17647059, 0.09803922],\n",
              "         [0.32941176, 0.18039216, 0.09803922],\n",
              "         [0.33333333, 0.18431373, 0.10196078]],\n",
              "\n",
              "        [[0.21568627, 0.11372549, 0.04705882],\n",
              "         [0.34509804, 0.15686275, 0.07843137],\n",
              "         [0.69803922, 0.31372549, 0.21568627],\n",
              "         ...,\n",
              "         [0.35686275, 0.19215686, 0.09803922],\n",
              "         [0.34117647, 0.18431373, 0.08627451],\n",
              "         [0.33333333, 0.17647059, 0.07843137]],\n",
              "\n",
              "        [[0.16862745, 0.12156863, 0.05882353],\n",
              "         [0.29803922, 0.15294118, 0.07843137],\n",
              "         [0.6       , 0.24705882, 0.14117647],\n",
              "         ...,\n",
              "         [0.37647059, 0.2       , 0.08627451],\n",
              "         [0.35294118, 0.17647059, 0.0627451 ],\n",
              "         [0.3372549 , 0.16078431, 0.04705882]],\n",
              "\n",
              "        ...,\n",
              "\n",
              "        [[0.51764706, 0.43529412, 0.32156863],\n",
              "         [0.50196078, 0.41960784, 0.30588235],\n",
              "         [0.56078431, 0.48627451, 0.36862745],\n",
              "         ...,\n",
              "         [0.35686275, 0.30588235, 0.23921569],\n",
              "         [0.29019608, 0.23529412, 0.18431373],\n",
              "         [0.25098039, 0.19607843, 0.14509804]],\n",
              "\n",
              "        [[0.47058824, 0.38823529, 0.2745098 ],\n",
              "         [0.50588235, 0.42352941, 0.30980392],\n",
              "         [0.53333333, 0.45882353, 0.34117647],\n",
              "         ...,\n",
              "         [0.44313725, 0.39215686, 0.3254902 ],\n",
              "         [0.29803922, 0.24313725, 0.19215686],\n",
              "         [0.25882353, 0.21176471, 0.15686275]],\n",
              "\n",
              "        [[0.49019608, 0.40784314, 0.29411765],\n",
              "         [0.5254902 , 0.44313725, 0.32941176],\n",
              "         [0.47843137, 0.40392157, 0.28627451],\n",
              "         ...,\n",
              "         [0.43529412, 0.38431373, 0.31764706],\n",
              "         [0.2745098 , 0.22745098, 0.17254902],\n",
              "         [0.23921569, 0.19215686, 0.1372549 ]]]])"
            ]
          },
          "metadata": {},
          "execution_count": 13
        }
      ]
    },
    {
      "cell_type": "code",
      "source": [
        "# unique target value\n",
        "np.unique(y_train)"
      ],
      "metadata": {
        "colab": {
          "base_uri": "https://localhost:8080/"
        },
        "id": "IkyJl-YWaOOM",
        "outputId": "13a4960b-2ba0-42d2-9f90-e50ab7aae633"
      },
      "execution_count": null,
      "outputs": [
        {
          "output_type": "execute_result",
          "data": {
            "text/plain": [
              "array([0., 1.])"
            ]
          },
          "metadata": {},
          "execution_count": 14
        }
      ]
    },
    {
      "cell_type": "code",
      "source": [
        "# printing the first image\n",
        "plt.imshow(x_train[1238, :])\n",
        "plt.show()\n",
        "\n",
        "# print the target for the first image\n",
        "print('The target label is:', y_train[18])"
      ],
      "metadata": {
        "colab": {
          "base_uri": "https://localhost:8080/",
          "height": 450
        },
        "id": "0rFCcaBaeldF",
        "outputId": "44de27e9-f177-4d26-e88c-be4163e3dd8e"
      },
      "execution_count": null,
      "outputs": [
        {
          "output_type": "display_data",
          "data": {
            "text/plain": [
              "<Figure size 640x480 with 1 Axes>"
            ],
            "image/png": "[encoded data removed]"
          },
          "metadata": {}
        },
        {
          "output_type": "stream",
          "name": "stdout",
          "text": [
            "The target label is: [0.]\n"
          ]
        }
      ]
    },
    {
      "cell_type": "code",
      "source": [
        "\n",
        "# This target label with the training image states 0 is dog 1 is cat"
      ],
      "metadata": {
        "id": "jBELk8lGe5qF"
      },
      "execution_count": null,
      "outputs": []
    },
    {
      "cell_type": "code",
      "source": [
        "# --- DONT RUN THIS CELL --- #\n",
        "\n",
        "# Traditional way of building the network\n",
        "# model building\n",
        "# model = Sequential()\n",
        "\n",
        "# # First Conv Layer\n",
        "# model.add(Conv2D(32, (3, 3), activation = 'relu', input_shape=(100, 100, 3)))   # 32 - no.of.filters each of size 3x3\n",
        "# model.MaxPooling2D((2,2))\n",
        "\n",
        "# # Second Conv Layer\n",
        "# model.add(Conv2D(32, (3, 3), activation = 'relu'))\n",
        "# model.MaxPooling2D((2,2))\n",
        "\n",
        "# # Flattening layer\n",
        "# model.add(Flatten())\n",
        "\n",
        "# # Fully connected layer\n",
        "# # first dense layer\n",
        "# model.add(Dense(70, activation='relu'))   # 70 neurons in the connecting layer\n",
        "# # final output layer\n",
        "# model.add(Dense(1, activation='sigmoid'))"
      ],
      "metadata": {
        "id": "WcwveRayjrAN"
      },
      "execution_count": null,
      "outputs": []
    },
    {
      "cell_type": "code",
      "source": [
        "\n",
        "# Conventional way\n",
        "model = Sequential([\n",
        "    # first conv layer\n",
        "    Conv2D(32, (3,3), activation='relu', input_shape=(100, 100, 3)),\n",
        "    MaxPooling2D((2,2)),\n",
        "\n",
        "    # second conv layer\n",
        "    Conv2D(32, (3,3), activation='relu'),\n",
        "    MaxPooling2D((2,2)),\n",
        "\n",
        "    # Flatter\n",
        "    Flatten(),\n",
        "\n",
        "    # First Dense layer\n",
        "    Dense(70, activation='relu'),\n",
        "\n",
        "    # Output layer\n",
        "    Dense(1, activation='sigmoid')\n",
        "])"
      ],
      "metadata": {
        "id": "i6WTC5QojvTt"
      },
      "execution_count": null,
      "outputs": []
    },
    {
      "cell_type": "code",
      "source": [
        "\n",
        "# Compiling the model\n",
        "model.compile(loss='binary_crossentropy', optimizer='adam', metrics=['accuracy'])"
      ],
      "metadata": {
        "id": "X7Xj3EDXjyJd"
      },
      "execution_count": null,
      "outputs": []
    },
    {
      "cell_type": "code",
      "source": [
        "# training the model with the data\n",
        "model.fit(x_train, y_train, epochs=5, batch_size=32)"
      ],
      "metadata": {
        "id": "S3W7TRkUj1hN",
        "colab": {
          "base_uri": "https://localhost:8080/"
        },
        "outputId": "1f67de1a-1cf0-4708-c0ba-7994a48ecc76"
      },
      "execution_count": null,
      "outputs": [
        {
          "output_type": "stream",
          "name": "stdout",
          "text": [
            "Epoch 1/5\n",
            "\u001b[1m63/63\u001b[0m \u001b[32m━━━━━━━━━━━━━━━━━━━━\u001b[0m\u001b[37m\u001b[0m \u001b[1m25s\u001b[0m 364ms/step - accuracy: 0.5029 - loss: 0.7380\n",
            "Epoch 2/5\n",
            "\u001b[1m63/63\u001b[0m \u001b[32m━━━━━━━━━━━━━━━━━━━━\u001b[0m\u001b[37m\u001b[0m \u001b[1m21s\u001b[0m 331ms/step - accuracy: 0.5795 - loss: 0.6849\n",
            "Epoch 3/5\n",
            "\u001b[1m63/63\u001b[0m \u001b[32m━━━━━━━━━━━━━━━━━━━━\u001b[0m\u001b[37m\u001b[0m \u001b[1m40s\u001b[0m 326ms/step - accuracy: 0.6515 - loss: 0.6327\n",
            "Epoch 4/5\n",
            "\u001b[1m63/63\u001b[0m \u001b[32m━━━━━━━━━━━━━━━━━━━━\u001b[0m\u001b[37m\u001b[0m \u001b[1m41s\u001b[0m 326ms/step - accuracy: 0.7146 - loss: 0.5521\n",
            "Epoch 5/5\n",
            "\u001b[1m63/63\u001b[0m \u001b[32m━━━━━━━━━━━━━━━━━━━━\u001b[0m\u001b[37m\u001b[0m \u001b[1m41s\u001b[0m 330ms/step - accuracy: 0.7768 - loss: 0.4764\n"
          ]
        },
        {
          "output_type": "execute_result",
          "data": {
            "text/plain": [
              "<keras.src.callbacks.history.History at 0x78587ee81810>"
            ]
          },
          "metadata": {},
          "execution_count": 30
        }
      ]
    },
    {
      "cell_type": "code",
      "source": [
        "\n",
        "# evaluating the model\n",
        "model.evaluate(x_test, y_test)"
      ],
      "metadata": {
        "colab": {
          "base_uri": "https://localhost:8080/"
        },
        "id": "97jsrWryi5Xf",
        "outputId": "19b9c962-6a2e-4e84-c6bd-fe6897990c4f"
      },
      "execution_count": null,
      "outputs": [
        {
          "output_type": "stream",
          "name": "stdout",
          "text": [
            "\u001b[1m13/13\u001b[0m \u001b[32m━━━━━━━━━━━━━━━━━━━━\u001b[0m\u001b[37m\u001b[0m \u001b[1m1s\u001b[0m 84ms/step - accuracy: 0.7513 - loss: 0.4888\n"
          ]
        },
        {
          "output_type": "execute_result",
          "data": {
            "text/plain": [
              "[0.6400146484375, 0.6850000023841858]"
            ]
          },
          "metadata": {},
          "execution_count": 31
        }
      ]
    },
    {
      "cell_type": "code",
      "source": [
        "\n",
        "# trainng data distribution of target\n",
        "unique, counts = np.unique(y_train, return_counts=True)\n",
        "print(unique, counts)"
      ],
      "metadata": {
        "colab": {
          "base_uri": "https://localhost:8080/"
        },
        "id": "EIVfujpKjt8_",
        "outputId": "2487b834-8d83-4af6-b568-ebb29817b2c1"
      },
      "execution_count": null,
      "outputs": [
        {
          "output_type": "stream",
          "name": "stdout",
          "text": [
            "[0. 1.] [1000 1000]\n"
          ]
        }
      ]
    },
    {
      "cell_type": "code",
      "source": [
        "\n",
        "\n",
        "# predictions\n",
        "rdm_img = random.randint(0, len(x_test))\n",
        "plt.imshow(x_test[rdm_img, :])\n",
        "plt.show()\n",
        "\n",
        "# actual condition\n",
        "if y_test[rdm_img, :] == 0:\n",
        "    actual = 'Dog'\n",
        "else:\n",
        "    actual = 'Cat'\n",
        "\n",
        "# prediction for the given image\n",
        "y_pred = model.predict(x_test[rdm_img, :].reshape(1, 100, 100, 3))\n",
        "print('Prediction Probability:', y_pred)\n",
        "\n",
        "if y_pred >= 0.5:\n",
        "    pred = 'Cat'\n",
        "else:\n",
        "    pred = 'Dog'\n",
        "\n",
        "print('The actual image is:', actual)\n",
        "print('The model has predicted as:', pred)"
      ],
      "metadata": {
        "colab": {
          "base_uri": "https://localhost:8080/",
          "height": 502
        },
        "id": "ksRXAwGfjv-O",
        "outputId": "7c460bc6-51c3-432b-a20c-fabe5c1f2dcd"
      },
      "execution_count": null,
      "outputs": [
        {
          "output_type": "display_data",
          "data": {
            "text/plain": [
              "<Figure size 640x480 with 1 Axes>"
            ],
            "image/png": "[encoded data removed]"
          },
          "metadata": {}
        },
        {
          "output_type": "stream",
          "name": "stdout",
          "text": [
            "\u001b[1m1/1\u001b[0m \u001b[32m━━━━━━━━━━━━━━━━━━━━\u001b[0m\u001b[37m\u001b[0m \u001b[1m0s\u001b[0m 39ms/step\n",
            "Prediction Probability: [[0.72278386]]\n",
            "The actual image is: Dog\n",
            "The model has predicted as: Cat\n"
          ]
        }
      ]
    },
    {
      "cell_type": "code",
      "source": [],
      "metadata": {
        "id": "Dg_WsZudj1ye"
      },
      "execution_count": null,
      "outputs": []
    }
  ]
}